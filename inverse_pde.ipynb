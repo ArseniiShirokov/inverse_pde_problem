{
  "cells": [
    {
      "cell_type": "code",
      "execution_count": null,
      "id": "6143f130",
      "metadata": {
        "id": "6143f130"
      },
      "outputs": [],
      "source": [
        "# !pip install DeepXDE"
      ]
    },
    {
      "cell_type": "code",
      "execution_count": null,
      "id": "b7b95fd9",
      "metadata": {
        "id": "b7b95fd9"
      },
      "outputs": [],
      "source": [
        "import os\n",
        "os.environ['DDE_BACKEND'] = 'pytorch'\n",
        "os.environ['CUDA_VISIBLE_DEVICES'] = '0'"
      ]
    },
    {
      "cell_type": "code",
      "execution_count": null,
      "id": "e8ab7f64",
      "metadata": {
        "id": "e8ab7f64",
        "outputId": "036bf1dc-762e-4ec4-9d97-b1dca609fd4f"
      },
      "outputs": [
        {
          "name": "stderr",
          "output_type": "stream",
          "text": [
            "Using backend: pytorch\n",
            "Other supported backends: tensorflow.compat.v1, tensorflow, jax, paddle.\n",
            "paddle supports more examples now and is recommended.\n"
          ]
        },
        {
          "name": "stdout",
          "output_type": "stream",
          "text": [
            "Set the default float type to float32\n"
          ]
        }
      ],
      "source": [
        "import deepxde as dde\n",
        "import matplotlib.pyplot as plt\n",
        "import numpy as np\n",
        "import torch\n",
        "import tqdm.auto\n",
        "import types\n",
        "import math\n",
        "\n",
        "dde.config.set_default_float('float32')"
      ]
    },
    {
      "cell_type": "markdown",
      "id": "a25a3d83",
      "metadata": {
        "id": "a25a3d83"
      },
      "source": [
        "### Task\n",
        "\n",
        "<!-- ![text](images/var-29.png \"Task\") -->\n",
        "<img src=\"images/var-29.png\" alt=\"drawing\" width=\"500\"/>"
      ]
    },
    {
      "cell_type": "markdown",
      "id": "2a8feec9",
      "metadata": {
        "id": "2a8feec9"
      },
      "source": [
        "### Load data"
      ]
    },
    {
      "cell_type": "code",
      "execution_count": null,
      "id": "029a31ed",
      "metadata": {
        "id": "029a31ed"
      },
      "outputs": [],
      "source": [
        "obs = dict(np.load(\"var-29.npz\"))"
      ]
    },
    {
      "cell_type": "markdown",
      "id": "4978ac80",
      "metadata": {
        "id": "4978ac80"
      },
      "source": [
        "### Defining computational geometries"
      ]
    },
    {
      "cell_type": "code",
      "execution_count": null,
      "id": "5c3b683a",
      "metadata": {
        "id": "5c3b683a"
      },
      "outputs": [],
      "source": [
        "geom = dde.geometry.Rectangle([0, -np.pi], [np.pi, np.pi])\n",
        "timedomain = dde.geometry.TimeDomain(0, 1)\n",
        "geomtime = dde.geometry.GeometryXTime(geom, timedomain)"
      ]
    },
    {
      "cell_type": "markdown",
      "id": "53c5d02e",
      "metadata": {
        "id": "53c5d02e"
      },
      "source": [
        "### Define pde function"
      ]
    },
    {
      "cell_type": "code",
      "execution_count": null,
      "id": "ba5138e2",
      "metadata": {
        "id": "ba5138e2"
      },
      "outputs": [],
      "source": [
        "def pde(xyt, u):\n",
        "    x = xyt[:, 0:1]\n",
        "    y = xyt[:, 1:2]\n",
        "    t = xyt[:, 2:]\n",
        "\n",
        "    du_dt = dde.grad.jacobian(u, xyt, i=0, j=2)\n",
        "    d2u_dx2 = dde.grad.hessian(u, xyt, component=0, i=0, j=0)\n",
        "    d2u_dy2 = dde.grad.hessian(u, xyt, component=0, i=1, j=1)\n",
        "\n",
        "    f = (603 * torch.exp(-L * t) * torch.sin(5.0 * x / 2.0)) / 50.0 + \\\n",
        "        (38019 * torch.exp(-L * t) * torch.cos(17.0 * y / 10.0)) / 5000.0\n",
        "\n",
        "    return du_dt - \\\n",
        "        9.0 / 5.0 * (d2u_dx2 + d2u_dy2) - f"
      ]
    },
    {
      "cell_type": "markdown",
      "id": "95d7410d",
      "metadata": {
        "id": "95d7410d"
      },
      "source": [
        "### Consider the boundary/initial condition"
      ]
    },
    {
      "cell_type": "markdown",
      "id": "4d200983",
      "metadata": {
        "id": "4d200983"
      },
      "source": [
        "#### Initial condition\n",
        "\n",
        "![text](images/init.jpg \"Task\")"
      ]
    },
    {
      "cell_type": "code",
      "execution_count": null,
      "id": "8d32a954",
      "metadata": {
        "id": "8d32a954"
      },
      "outputs": [],
      "source": [
        "def initial_func(xyt_np):\n",
        "    xyt = torch.from_numpy(xyt_np).cuda()\n",
        "    x = xyt[:, :1]\n",
        "    y = xyt[:, 1:2]\n",
        "    return (6.0 / 5.0) * torch.sin(5 * x / 2) + (19.0 / 10.0) * torch.cos(17 * y / 10) + 23.0 / 10.0\n",
        "\n",
        "def boundary(_, on_initial):\n",
        "    return on_initial\n",
        "\n",
        "ic = dde.icbc.IC(geomtime, initial_func, boundary, component=0)"
      ]
    },
    {
      "cell_type": "markdown",
      "id": "0b54b2a7",
      "metadata": {
        "id": "0b54b2a7"
      },
      "source": [
        "#### Dirichle conditions\n",
        "\n",
        "![text](images/x_dir.jpg \"Task\")"
      ]
    },
    {
      "cell_type": "code",
      "execution_count": null,
      "id": "ea6aa956",
      "metadata": {
        "id": "ea6aa956"
      },
      "outputs": [],
      "source": [
        "def dirichlet_x_func(xyt_np):\n",
        "    xyt = torch.from_numpy(xyt_np).cuda()\n",
        "    y = xyt[:, 1:2]\n",
        "    t = xyt[:, 2:]\n",
        "    return  (23.0 / 10.0) + \\\n",
        "            (19 * torch.exp(-6 * t / 5) * torch.cos(17 * y / 10)) / 10.0 + \\\n",
        "            (6 * torch.exp(-6 * t / 5)) / 5.0\n",
        "\n",
        "def dirichlet_x_boundary(xyt, on_boundary):\n",
        "    return on_boundary and dde.utils.isclose(xyt[0], np.pi)\n",
        "\n",
        "dbcx = dde.icbc.DirichletBC(geomtime, dirichlet_x_func, dirichlet_x_boundary)"
      ]
    },
    {
      "cell_type": "markdown",
      "id": "914df8aa",
      "metadata": {
        "id": "914df8aa"
      },
      "source": [
        "![text](images/y_dir.jpg \"Task\")"
      ]
    },
    {
      "cell_type": "code",
      "execution_count": null,
      "id": "39b52df5",
      "metadata": {
        "id": "39b52df5"
      },
      "outputs": [],
      "source": [
        "def dirichlet_y_func(xyt_np):\n",
        "    xyt = torch.from_numpy(xyt_np).cuda()\n",
        "    x = xyt[:, 0:1]\n",
        "    t = xyt[:, 2:]\n",
        "    a = math.sqrt(5.0 / 8.0 - math.sqrt(5) / 8)\n",
        "    return  (23.0 / 10.0) + \\\n",
        "            (6 * torch.exp(-6 * t / 5) * torch.sin(5 * x / 2)) / 5.0 + \\\n",
        "            (19 * a * torch.exp(-6 * t / 5)) / 10.0\n",
        "\n",
        "def dirichlet_y_boundary(xyt, on_boundary):\n",
        "    return on_boundary and dde.utils.isclose(xyt[1], np.pi)\n",
        "\n",
        "dbcy = dde.icbc.DirichletBC(geomtime, dirichlet_y_func, dirichlet_y_boundary)"
      ]
    },
    {
      "cell_type": "markdown",
      "id": "866cbd90",
      "metadata": {
        "id": "866cbd90"
      },
      "source": [
        "#### Neumann conditions\n",
        "\n",
        "![text](images/x_neu.jpg \"Task\")"
      ]
    },
    {
      "cell_type": "code",
      "execution_count": null,
      "id": "aea7f994",
      "metadata": {
        "id": "aea7f994"
      },
      "outputs": [],
      "source": [
        "def neumann_x_func(xyt_np):\n",
        "    xyt = torch.from_numpy(xyt_np).cuda()\n",
        "    t = xyt[:, 2:]\n",
        "    sgn = -1 # fix normal impact\n",
        "    return sgn * 3.0 * torch.exp(-6.0 * t / 5.0)\n",
        "\n",
        "def neumann_x_boundary(xyt, on_boundary):\n",
        "    return on_boundary and dde.utils.isclose(xyt[0], 0)\n",
        "\n",
        "nbcx = dde.icbc.NeumannBC(geomtime, neumann_x_func, neumann_x_boundary)"
      ]
    },
    {
      "cell_type": "markdown",
      "id": "c18e81be",
      "metadata": {
        "id": "c18e81be"
      },
      "source": [
        "![text](images/y_neu.jpg \"Task\")"
      ]
    },
    {
      "cell_type": "code",
      "execution_count": null,
      "id": "da6c2edc",
      "metadata": {
        "id": "da6c2edc"
      },
      "outputs": [],
      "source": [
        "def neumann_y_func(xyt_np):\n",
        "    xyt = torch.from_numpy(xyt_np).cuda()\n",
        "    t = xyt[:, 2:]\n",
        "    sgn = -1 # fix normal impact\n",
        "    return sgn * (-323 / 400) * (math.sqrt(5) + 1) * torch.exp(-6.0 * t / 5.0)\n",
        "\n",
        "def neumann_y_boundary(xyt, on_boundary):\n",
        "    return on_boundary and dde.utils.isclose(xyt[1], -np.pi)\n",
        "\n",
        "nbcy = dde.icbc.NeumannBC(geomtime, neumann_y_func, neumann_y_boundary)"
      ]
    },
    {
      "cell_type": "markdown",
      "id": "7e2473f4",
      "metadata": {
        "id": "7e2473f4"
      },
      "source": [
        "### Prepare data"
      ]
    },
    {
      "cell_type": "code",
      "execution_count": null,
      "id": "d276096b",
      "metadata": {
        "id": "d276096b"
      },
      "outputs": [],
      "source": [
        "observe_u = dde.icbc.PointSetBC(obs['xyt'], obs['u'], component=0)"
      ]
    },
    {
      "cell_type": "code",
      "execution_count": null,
      "id": "8cf81989",
      "metadata": {
        "id": "8cf81989",
        "outputId": "3888514c-9bc9-43ad-f4db-08dc7da3b9a0"
      },
      "outputs": [
        {
          "name": "stdout",
          "output_type": "stream",
          "text": [
            "Warning: 315 points required, but 338 points sampled.\n",
            "Warning: 5000 points required, but 5408 points sampled.\n"
          ]
        }
      ],
      "source": [
        "data = dde.data.TimePDE(\n",
        "    geomtime,\n",
        "    pde,\n",
        "    [ic, dbcx, dbcy, nbcx, nbcy, observe_u],\n",
        "    num_domain=5000,\n",
        "    num_boundary=2000,\n",
        "    num_initial=2000,\n",
        "    anchors=obs['xyt'],\n",
        "    num_test=5000,\n",
        ")"
      ]
    },
    {
      "cell_type": "markdown",
      "id": "798dc4d2",
      "metadata": {
        "id": "798dc4d2"
      },
      "source": [
        "### Training"
      ]
    },
    {
      "cell_type": "code",
      "execution_count": null,
      "id": "1e9c94df",
      "metadata": {
        "id": "1e9c94df"
      },
      "outputs": [],
      "source": [
        "layer_size = [3] + [32] * 3 + [1]\n",
        "activation = \"tanh\"\n",
        "initializer = \"Glorot uniform\""
      ]
    },
    {
      "cell_type": "code",
      "execution_count": null,
      "id": "165b8913",
      "metadata": {
        "id": "165b8913"
      },
      "outputs": [],
      "source": [
        "def _train_sgd(self, iterations, display_every):\n",
        "    # for i in range(iterations):\n",
        "    for i in tqdm.auto.trange(iterations):\n",
        "        self.callbacks.on_epoch_begin()\n",
        "        self.callbacks.on_batch_begin()\n",
        "\n",
        "        self.train_state.set_data_train(\n",
        "            *self.data.train_next_batch(self.batch_size)\n",
        "        )\n",
        "        self._train_step(\n",
        "            self.train_state.X_train,\n",
        "            self.train_state.y_train,\n",
        "            self.train_state.train_aux_vars,\n",
        "        )\n",
        "\n",
        "        self.train_state.epoch += 1\n",
        "        self.train_state.step += 1\n",
        "        if self.train_state.step % display_every == 0 or i + 1 == iterations:\n",
        "            self._test()\n",
        "\n",
        "        self.callbacks.on_batch_end()\n",
        "        self.callbacks.on_epoch_end()\n",
        "\n",
        "        if self.stop_training:\n",
        "            break"
      ]
    },
    {
      "cell_type": "code",
      "execution_count": null,
      "id": "ab17b5e5",
      "metadata": {
        "id": "ab17b5e5"
      },
      "outputs": [],
      "source": [
        "def train(cfg, L0):\n",
        "    net = dde.nn.FNN(layer_size, activation, initializer)\n",
        "    model = dde.Model(data, net)\n",
        "    model._train_sgd = types.MethodType(_train_sgd, model)\n",
        "\n",
        "    global L\n",
        "    L = dde.Variable(L0)\n",
        "\n",
        "    variable = dde.callbacks.VariableValue(L, period=1000)\n",
        "    pde_resampler = dde.callbacks.PDEPointResampler(period=1000)\n",
        "\n",
        "    for lr, iters in cfg:\n",
        "        model.compile(\"adam\", lr=lr, external_trainable_variables=L)\n",
        "        losshistory, train_state = model.train(iterations=iters, callbacks=[variable, pde_resampler])\n",
        "    return losshistory, train_state, L"
      ]
    },
    {
      "cell_type": "code",
      "execution_count": null,
      "id": "ea0feb4f",
      "metadata": {
        "id": "ea0feb4f"
      },
      "outputs": [],
      "source": [
        "cfg = [[1e-3, 500], [1e-4, 50000], [1e-5, 100000]]\n",
        "init_L = [-1.0, 1.0, 0.0]"
      ]
    },
    {
      "cell_type": "markdown",
      "id": "e19379c5",
      "metadata": {
        "id": "e19379c5"
      },
      "source": [
        "#### First launch"
      ]
    },
    {
      "cell_type": "code",
      "execution_count": null,
      "id": "6a090fa8",
      "metadata": {
        "id": "6a090fa8"
      },
      "outputs": [],
      "source": [
        "losshistory, train_state, L1 = train(cfg, init_L[0])"
      ]
    },
    {
      "cell_type": "code",
      "execution_count": null,
      "id": "5eb0f1f6",
      "metadata": {
        "id": "5eb0f1f6",
        "outputId": "19c1e374-700b-4aac-c4f4-dbdec3a20438"
      },
      "outputs": [
        {
          "name": "stdout",
          "output_type": "stream",
          "text": [
            "1.1995983123779297\n",
            "Saving loss history to /home/user/MSU/spec_kr/loss.dat ...\n",
            "Saving training data to /home/user/MSU/spec_kr/train.dat ...\n",
            "Saving test data to /home/user/MSU/spec_kr/test.dat ...\n"
          ]
        },
        {
          "data": {
            "image/png": "[encoded data removed]",
            "text/plain": [
              "<Figure size 432x288 with 1 Axes>"
            ]
          },
          "metadata": {
            "needs_background": "light"
          },
          "output_type": "display_data"
        }
      ],
      "source": [
        "print(L1.item())\n",
        "dde.saveplot(losshistory, train_state, issave=True, isplot=True)"
      ]
    },
    {
      "cell_type": "markdown",
      "id": "9bbf396a",
      "metadata": {
        "id": "9bbf396a"
      },
      "source": [
        "#### Second launch"
      ]
    },
    {
      "cell_type": "code",
      "execution_count": null,
      "id": "7c010aa0",
      "metadata": {
        "id": "7c010aa0"
      },
      "outputs": [],
      "source": [
        "losshistory, train_state, L2 = train(cfg, init_L[1])"
      ]
    },
    {
      "cell_type": "code",
      "execution_count": null,
      "id": "a8a6552b",
      "metadata": {
        "id": "a8a6552b",
        "outputId": "9f359762-6062-47ed-89a6-c58c2b767085"
      },
      "outputs": [
        {
          "name": "stdout",
          "output_type": "stream",
          "text": [
            "1.1983587741851807\n",
            "Saving loss history to /home/user/MSU/spec_kr/loss.dat ...\n",
            "Saving training data to /home/user/MSU/spec_kr/train.dat ...\n",
            "Saving test data to /home/user/MSU/spec_kr/test.dat ...\n"
          ]
        },
        {
          "data": {
            "image/png": "[encoded data removed]",
            "text/plain": [
              "<Figure size 432x288 with 1 Axes>"
            ]
          },
          "metadata": {
            "needs_background": "light"
          },
          "output_type": "display_data"
        }
      ],
      "source": [
        "print(L2.item())\n",
        "dde.saveplot(losshistory, train_state, issave=True, isplot=True)"
      ]
    },
    {
      "cell_type": "markdown",
      "id": "4c14f5b6",
      "metadata": {
        "id": "4c14f5b6"
      },
      "source": [
        "#### Third launch"
      ]
    },
    {
      "cell_type": "code",
      "execution_count": null,
      "id": "5a23842c",
      "metadata": {
        "id": "5a23842c"
      },
      "outputs": [],
      "source": [
        "losshistory, train_state, L3 = train(cfg, init_L[2])"
      ]
    },
    {
      "cell_type": "code",
      "execution_count": null,
      "id": "158ad913",
      "metadata": {
        "id": "158ad913",
        "outputId": "a9e22c69-9e61-478d-84b4-b20eb14d6114"
      },
      "outputs": [
        {
          "name": "stdout",
          "output_type": "stream",
          "text": [
            "1.1966718435287476\n",
            "Saving loss history to /home/user/MSU/spec_kr/loss.dat ...\n",
            "Saving training data to /home/user/MSU/spec_kr/train.dat ...\n",
            "Saving test data to /home/user/MSU/spec_kr/test.dat ...\n"
          ]
        },
        {
          "data": {
            "image/png": "[encoded data removed]",
            "text/plain": [
              "<Figure size 432x288 with 1 Axes>"
            ]
          },
          "metadata": {
            "needs_background": "light"
          },
          "output_type": "display_data"
        }
      ],
      "source": [
        "print(L3.item())\n",
        "dde.saveplot(losshistory, train_state, issave=True, isplot=True)"
      ]
    },
    {
      "cell_type": "markdown",
      "id": "8700033a",
      "metadata": {
        "id": "8700033a"
      },
      "source": [
        "### Final lamda"
      ]
    },
    {
      "cell_type": "code",
      "execution_count": null,
      "id": "8a0f115c",
      "metadata": {
        "id": "8a0f115c",
        "outputId": "27b5fd68-9de9-4b12-e865-ebacfa7f7ff2"
      },
      "outputs": [
        {
          "name": "stdout",
          "output_type": "stream",
          "text": [
            "1.1995983123779297 1.1983587741851807 1.1966718435287476\n"
          ]
        }
      ],
      "source": [
        "print(L1.item(), L2.item(), L3.item())"
      ]
    },
    {
      "cell_type": "code",
      "execution_count": null,
      "id": "06c29db2",
      "metadata": {
        "id": "06c29db2"
      },
      "outputs": [],
      "source": [
        "L = (L1.item() + L2.item() + L3.item()) / 3"
      ]
    },
    {
      "cell_type": "code",
      "execution_count": null,
      "id": "55b64dc8",
      "metadata": {
        "id": "55b64dc8",
        "outputId": "9a5e09de-1ee0-4179-837c-c46951d4d9e5"
      },
      "outputs": [
        {
          "data": {
            "text/plain": [
              "1.1982096433639526"
            ]
          },
          "execution_count": 26,
          "metadata": {},
          "output_type": "execute_result"
        }
      ],
      "source": [
        "L"
      ]
    },
    {
      "cell_type": "code",
      "execution_count": null,
      "id": "309c362d",
      "metadata": {
        "id": "309c362d"
      },
      "outputs": [],
      "source": []
    }
  ],
  "metadata": {
    "kernelspec": {
      "display_name": "Python 3 (ipykernel)",
      "language": "python",
      "name": "python3"
    },
    "language_info": {
      "codemirror_mode": {
        "name": "ipython",
        "version": 3
      },
      "file_extension": ".py",
      "mimetype": "text/x-python",
      "name": "python",
      "nbconvert_exporter": "python",
      "pygments_lexer": "ipython3",
      "version": "3.9.12"
    },
    "colab": {
      "provenance": []
    }
  },
  "nbformat": 4,
  "nbformat_minor": 5
}